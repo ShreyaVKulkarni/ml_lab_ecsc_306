{
 "cells": [
  {
   "cell_type": "code",
   "execution_count": 1,
   "metadata": {},
   "outputs": [
    {
     "name": "stdout",
     "output_type": "stream",
     "text": [
      "2.5\n",
      "3.125\n",
      "5.0\n",
      "2.1875\n",
      "2.75\n",
      "0.55\n",
      "1.75\n"
     ]
    }
   ],
   "source": [
    "import tensorflow as tf\n",
    "\n",
    "x=tf.constant([1.0,2.0,3.0,4.0])\n",
    "\n",
    "y=tf.constant([2.0,3.5,3,4])\n",
    "\n",
    "\n",
    "\n",
    "meanx=tf.reduce_mean(x)\n",
    "\n",
    "meany=tf.reduce_mean(y)\n",
    "\n",
    "\n",
    "\n",
    "ss=tf.Session()\n",
    "\n",
    "print (ss.run(meanx))\n",
    "\n",
    "print (ss.run(meany))\n",
    "\n",
    "\n",
    "\n",
    "#var_x=tf.nn.weighted_moments(x,,mean_x)\n",
    "\n",
    "x1=tf.subtract(x,meanx)\n",
    "\n",
    "\n",
    "y1=tf.subtract(y,meany)\n",
    "\n",
    "\n",
    "\n",
    "\n",
    "\n",
    "sqr1=tf.square(x1)\n",
    "\n",
    "\n",
    "\n",
    "sqr2=tf.square(y1)\n",
    "\n",
    "\n",
    "\n",
    "\n",
    "\n",
    "var1=tf.reduce_sum(sqr1)\n",
    "\n",
    "\n",
    "\n",
    "var2=tf.reduce_sum(sqr2)\n",
    "\n",
    "\n",
    "\n",
    "print (ss.run(var1))\n",
    "\n",
    "\n",
    "\n",
    "print (ss.run(var2))\n",
    "\n",
    "\n",
    "\n",
    "tmp=tf.multiply(x1,y1)\n",
    "\n",
    "cov=tf.reduce_sum(tmp)\n",
    "\n",
    "print (ss.run(cov))\n",
    "\n",
    "\n",
    "\n",
    "\n",
    "\n",
    "m=tf.div(cov,var1)\n",
    "\n",
    "print (ss.run(m))\n",
    "\n",
    "\n",
    "\n",
    "tmp2=tf.multiply(m,meanx)\n",
    "\n",
    "c=tf.subtract(meany,tmp2)\n",
    "\n",
    "print (ss.run(c))"
   ]
  },
  {
   "cell_type": "code",
   "execution_count": null,
   "metadata": {
    "collapsed": true
   },
   "outputs": [],
   "source": []
  }
 ],
 "metadata": {
  "kernelspec": {
   "display_name": "Python 3",
   "language": "python",
   "name": "python3"
  },
  "language_info": {
   "codemirror_mode": {
    "name": "ipython",
    "version": 3
   },
   "file_extension": ".py",
   "mimetype": "text/x-python",
   "name": "python",
   "nbconvert_exporter": "python",
   "pygments_lexer": "ipython3",
   "version": "3.6.1"
  }
 },
 "nbformat": 4,
 "nbformat_minor": 2
}
