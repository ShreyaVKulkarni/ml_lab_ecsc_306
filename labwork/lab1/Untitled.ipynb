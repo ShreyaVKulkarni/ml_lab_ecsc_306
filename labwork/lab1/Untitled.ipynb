{
 "cells": [
  {
   "cell_type": "code",
   "execution_count": 3,
   "metadata": {},
   "outputs": [
    {
     "name": "stdout",
     "output_type": "stream",
     "text": [
      "2744\n"
     ]
    }
   ],
   "source": [
    "import tensorflow as tf\n",
    "#(a+b)^3=a^3+b^3+3ab(a+b)\n",
    "a=8\n",
    "b=6\n",
    "\n",
    "with tf.name_scope(\"lab1_assign1b\"):\n",
    "    with tf.name_scope(\"Scope_A\"):\n",
    "        x=tf.multiply(a, a)\n",
    "        x1=tf.multiply(x, a)\n",
    "        y=tf.multiply(b, b)\n",
    "        y1=tf.multiply(y, b)\n",
    "    with tf.name_scope(\"scope_B\"):\n",
    "        z=tf.multiply(3, a)\n",
    "        z1=tf.multiply(z, b)\n",
    "        c=tf.add(a, b)\n",
    "        d=tf.multiply(z1, c)\n",
    "       \n",
    "with tf.name_scope(\"Scope_C\"):\n",
    "    e=tf.add(x1, y1)\n",
    "    f=tf.add(e, d)\n",
    "   \n",
    "with tf.Session() as sess:\n",
    "    writer = tf.summary.FileWriter(\"/tmp/tboard/assign2\", sess.graph)\n",
    "    print(sess.run(f))\n",
    "    writer.close()"
   ]
  },
  {
   "cell_type": "code",
   "execution_count": null,
   "metadata": {
    "collapsed": true
   },
   "outputs": [],
   "source": []
  }
 ],
 "metadata": {
  "kernelspec": {
   "display_name": "Python 3",
   "language": "python",
   "name": "python3"
  },
  "language_info": {
   "codemirror_mode": {
    "name": "ipython",
    "version": 3
   },
   "file_extension": ".py",
   "mimetype": "text/x-python",
   "name": "python",
   "nbconvert_exporter": "python",
   "pygments_lexer": "ipython3",
   "version": "3.6.1"
  }
 },
 "nbformat": 4,
 "nbformat_minor": 2
}
