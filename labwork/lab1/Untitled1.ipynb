{
 "cells": [
  {
   "cell_type": "code",
   "execution_count": 1,
   "metadata": {},
   "outputs": [
    {
     "name": "stdout",
     "output_type": "stream",
     "text": [
      "4\n"
     ]
    }
   ],
   "source": [
    "import tensorflow as tf\n",
    "#(a-b)^2=a^2+b^2-2ab\n",
    "a=5\n",
    "b=3\n",
    "\n",
    "with tf.name_scope(\"Assignment\"):\n",
    "    with tf.name_scope(\"Scope_A\"):\n",
    "        x=tf.multiply(a, a)\n",
    "        y=tf.multiply(b, b)\n",
    "    with tf.name_scope(\"scope_B\"):\n",
    "        z=tf.multiply(2, a)\n",
    "        h=tf.multiply(z, b)\n",
    "       \n",
    "with tf.name_scope(\"Scope_C\"):\n",
    "    d=tf.add(x, y)\n",
    "    s=tf.subtract(d, h)\n",
    "   \n",
    "with tf.Session() as sess:\n",
    "    writer = tf.summary.FileWriter(\"/tmp/tboard/assign_out\", sess.graph)\n",
    "    print(sess.run(s))\n",
    "    writer.close()"
   ]
  },
  {
   "cell_type": "code",
   "execution_count": null,
   "metadata": {
    "collapsed": true
   },
   "outputs": [],
   "source": []
  }
 ],
 "metadata": {
  "kernelspec": {
   "display_name": "Python 3",
   "language": "python",
   "name": "python3"
  },
  "language_info": {
   "codemirror_mode": {
    "name": "ipython",
    "version": 3
   },
   "file_extension": ".py",
   "mimetype": "text/x-python",
   "name": "python",
   "nbconvert_exporter": "python",
   "pygments_lexer": "ipython3",
   "version": "3.6.1"
  }
 },
 "nbformat": 4,
 "nbformat_minor": 2
}
